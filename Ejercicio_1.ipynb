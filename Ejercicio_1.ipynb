{
  "nbformat": 4,
  "nbformat_minor": 0,
  "metadata": {
    "colab": {
      "provenance": []
    },
    "kernelspec": {
      "name": "python3",
      "display_name": "Python 3"
    },
    "language_info": {
      "name": "python"
    }
  },
  "cells": [
    {
      "cell_type": "markdown",
      "source": [
        "**Problema del encuentro**\n",
        "\n",
        "Dos personas han quedado citadas en un determinado lugar. Ambos tienen la misma probabilidad de llegar al lugar de la cita en el intevalo de tiempo .\n",
        "\n",
        "Determínese la probabilidad de que el tiempo que una persona espere a la otra sea como máximo 10.\n",
        "Solución mediante simulación (**Metodología de la Simulación**)\n",
        "1. Identifique las variables.\n",
        " \n",
        " x= tiempo de llegada de la persona 1\n",
        " y= tiempo de llegada de la persona 2 \n",
        "\n",
        "2. Determine la distribución de probabilidad de cada variable \n",
        "3.  modele las variables aleatorias\n",
        "\n",
        "Por la descripción del probelma sabemos que las variables sigen una distribucion uniforme:\n",
        "\n",
        "$x \\sim U(0,30)$ ; $y \\sim U(0,30)$\n",
        "4. Defina el modelo del sistema y los objetivos de la simulación \n",
        "\n",
        "La diferencia $x - y> 10$ modela adecuadamente el sistema.\n",
        "\n",
        "Si $x - y> 10$  el tiempo de que una persona espere a la otra es mayor a 10, si no es asi el tiempo maximo de espera es 10.\n",
        "\n",
        "Objetivo: determinar la frecuencia con que esto ocurre, lo cual nos da una estimación de la probabilidad y por tanto su complemento.\n",
        "\n"
      ],
      "metadata": {
        "id": "DYA4kYLyDxDf"
      }
    },
    {
      "cell_type": "code",
      "source": [
        "import numpy as np\n",
        "import random\n",
        "import matplotlib.pyplot as plt"
      ],
      "metadata": {
        "id": "RKP0TkKfor9z"
      },
      "execution_count": 7,
      "outputs": []
    },
    {
      "cell_type": "code",
      "source": [
        "def espera():                #Esta función devuelve el valor 1 si el tiempo de espera es mayor a 10 o 0 si no.\n",
        "    llegada=0                      \n",
        "    x = random.uniform(0, 30) \n",
        "    y = random.uniform(0, 30)  \n",
        "    if 10 < abs(x - y):\n",
        "        llegada += 1\n",
        "    return llegada"
      ],
      "metadata": {
        "id": "4gPsuH4Wot0G"
      },
      "execution_count": 48,
      "outputs": []
    },
    {
      "cell_type": "code",
      "source": [
        "espera()\n"
      ],
      "metadata": {
        "colab": {
          "base_uri": "https://localhost:8080/"
        },
        "id": "kjf_oQrcqB0u",
        "outputId": "c82c5b15-5488-42b3-c33a-ec0b37d3380d"
      },
      "execution_count": 50,
      "outputs": [
        {
          "output_type": "execute_result",
          "data": {
            "text/plain": [
              "0"
            ]
          },
          "metadata": {},
          "execution_count": 50
        }
      ]
    },
    {
      "cell_type": "markdown",
      "source": [
        "5. Diseñe el experimento\n",
        "\n",
        "Ejecutamos  n  veces la función anterior y calculamos de manera acumulativa la probabilidad de llegada."
      ],
      "metadata": {
        "id": "4vRgYVThsT05"
      }
    },
    {
      "cell_type": "code",
      "source": [
        "def prob_espera(n):                    \n",
        "    prob = []                       # Esta funcion devuelve esta lista \"prob\", con los valores de la probabilidad\n",
        "    inter = 0                       # estimada al contar las veces que hay interferencia y dividir entre las veces que \n",
        "    for i in range(n):              # se ha reptido la observacion mientras aumenta el numero de iteraciones.\n",
        "        inter += espera()\n",
        "        prob.append(inter/(i+1))\n",
        "    return prob\n",
        "   \n",
        "  "
      ],
      "metadata": {
        "id": "QvZicAiXskAI"
      },
      "execution_count": 41,
      "outputs": []
    },
    {
      "cell_type": "code",
      "source": [
        "X = prob_espera(1000)\n",
        "print(np.mean(X), np.std(X))\n",
        "print(\"La probabilidad de que el tiempo que una persona espere a la otra sea como máximo 10 es: \",(1-(np.mean(X)) ))"
      ],
      "metadata": {
        "colab": {
          "base_uri": "https://localhost:8080/"
        },
        "id": "mAdMK4JLtLPI",
        "outputId": "04b3843e-eb0f-4373-eff3-3ccc6979700f"
      },
      "execution_count": 63,
      "outputs": [
        {
          "output_type": "stream",
          "name": "stdout",
          "text": [
            "0.45584789021006666 0.026920580898863934\n",
            "La probabilidad de que el tiempo que una persona espere a la otra sea como máximo 10 es:  0.5441521097899333\n"
          ]
        }
      ]
    },
    {
      "cell_type": "code",
      "source": [
        "plt.plot(X)  # La gráfica muestra que la convergencia está garantizada con 1000 iteraciones\n",
        "plt.title('convergencia de la probabilidad')\n",
        "plt.xlabel('iteraciones') \n",
        "plt.ylabel('probabilidad') \n",
        "plt.show() "
      ],
      "metadata": {
        "colab": {
          "base_uri": "https://localhost:8080/",
          "height": 472
        },
        "id": "LhlqMEcewpM2",
        "outputId": "268e74c2-ff7d-429a-eef8-744317f0046d"
      },
      "execution_count": 65,
      "outputs": [
        {
          "output_type": "display_data",
          "data": {
            "text/plain": [
              "<Figure size 640x480 with 1 Axes>"
            ],
            "image/png": "[encoded data removed]"
          },
          "metadata": {}
        }
      ]
    },
    {
      "cell_type": "markdown",
      "source": [
        "6. Repita el experimento  n  veces"
      ],
      "metadata": {
        "id": "0UlD5k32zOJC"
      }
    },
    {
      "cell_type": "code",
      "source": [
        "def modelo(n):\n",
        "    lista=[]\n",
        "    for i in range(n):\n",
        "        s = prob_espera(500)\n",
        "        lista.append(np.mean(s))\n",
        "    return lista"
      ],
      "metadata": {
        "id": "9N_5rOppzeLJ"
      },
      "execution_count": 66,
      "outputs": []
    },
    {
      "cell_type": "code",
      "source": [
        "z=modelo(500)"
      ],
      "metadata": {
        "id": "QZ3nSfR1zxea"
      },
      "execution_count": 72,
      "outputs": []
    },
    {
      "cell_type": "code",
      "source": [
        "plt.hist(z)\n",
        "plt.show()"
      ],
      "metadata": {
        "colab": {
          "base_uri": "https://localhost:8080/",
          "height": 430
        },
        "id": "A3qwx4-Nzzel",
        "outputId": "98a45e8a-4bfc-4ae5-d9c2-90fe92478f29"
      },
      "execution_count": 73,
      "outputs": [
        {
          "output_type": "display_data",
          "data": {
            "text/plain": [
              "<Figure size 640x480 with 1 Axes>"
            ],
            "image/png": "[encoded data removed]"
          },
          "metadata": {}
        }
      ]
    },
    {
      "cell_type": "code",
      "source": [
        "np.mean(z)\n",
        "np.std(z)\n",
        "print((1-(np.mean(z))),np.std(z))"
      ],
      "metadata": {
        "colab": {
          "base_uri": "https://localhost:8080/"
        },
        "id": "ESHkdthe0Ezb",
        "outputId": "0a0acd0d-083a-45c3-a3fc-64d8466b7ae5"
      },
      "execution_count": 76,
      "outputs": [
        {
          "output_type": "stream",
          "name": "stdout",
          "text": [
            "0.5569467520848171 0.03118450173941714\n"
          ]
        }
      ]
    },
    {
      "cell_type": "markdown",
      "source": [
        " 7. Hallamos el intervalo de confianza.\n",
        "\n",
        "$$\\bar{x}-z_{\\alpha/2} \\cdot \\frac{s}{\\sqrt{n}} < \\mu < \\bar{x}+z_{\\alpha/2}\\cdot \\frac{s}{\\sqrt{n}}$$"
      ],
      "metadata": {
        "id": "Ooyn2x851Ek1"
      }
    },
    {
      "cell_type": "code",
      "source": [
        "(1-(np.mean(z))) - 1.96*np.std(z)/np.sqrt(200),(1-(np.mean(z)))  + 1.96*np.std(z)/np.sqrt(200)"
      ],
      "metadata": {
        "colab": {
          "base_uri": "https://localhost:8080/"
        },
        "id": "QBYY2xuC1G6q",
        "outputId": "31e07808-3c43-4d5a-9f7f-e92f0975327d"
      },
      "execution_count": 79,
      "outputs": [
        {
          "output_type": "execute_result",
          "data": {
            "text/plain": [
              "(0.5526248006458355, 0.5612687035237988)"
            ]
          },
          "metadata": {},
          "execution_count": 79
        }
      ]
    },
    {
      "cell_type": "markdown",
      "source": [
        "# Analiticamente\n",
        "La probabilidad de que el tiempo que una persona espere a la otra sea como máximo de 10 minutosesta dado por $P(|X-Y| \\leq 10)$.\n",
        "Como sabemos las llegadas son independientes y uniformemente distribuidas \n",
        "Entonces resolviendo:\n",
        "\n",
        "\n",
        "$$P(|X-Y| \\leq 10) = \\iint_{|x-y|\\leq10} f_{X,Y}(x,y) \\, dx\\, dy$$\n",
        "\n",
        "\n",
        "donde $f_{X,Y}(x,y)$ es la función conjunta de densidad de probabilidad de $X$ y $Y$.\n",
        "\n",
        "Como $X$, $Y$ son independientes, la función conjunta de densidad de probabilidad de $X$,$Y$ es simplemente el producto de sus funciones de densidad de probabilidad individuales. Por lo tanto:\n",
        "\n",
        "\n",
        "$$f_{X,Y}(x,y) = f_X(x) \\cdot f_Y(y) = \\frac{1}{30^2} \\qquad 0 \\leq x,y \\leq 30$$\n",
        "\n",
        "Así necesitamos resolver:\n",
        "\n",
        "$$P(|X-Y| \\leq 10) = \\frac{1}{30^2} \\left[\\int_{0}^{10}\\int_{0}^{x+10}  \\, dy\\, dx  +  \\int_{10}^{20}\\int_{x-10}^{x+10}  \\, dy\\, dx  + \\int_{20}^{30}\\int_{x-10}^{30}  \\, dy\\, dx\\right] $$\n",
        "\n",
        "Finalmente:\n",
        "$$P(|X-Y| \\leq 10) = 0.5555$$\n",
        "por simplicidad la integral fue resuelta por un programa "
      ],
      "metadata": {
        "id": "n7h6wJa92dfT"
      }
    }
  ]
}