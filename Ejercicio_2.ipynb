{
  "nbformat": 4,
  "nbformat_minor": 0,
  "metadata": {
    "colab": {
      "provenance": []
    },
    "kernelspec": {
      "name": "python3",
      "display_name": "Python 3"
    },
    "language_info": {
      "name": "python"
    }
  },
  "cells": [
    {
      "cell_type": "markdown",
      "source": [
        "**Problema del quiosquero** \n",
        "\n",
        "Un quiosquero vende periodico a 1.10 euros cada uno. Cada periodico le cuesta 0.90 euros.Las ventas de periódicos del quiosquero a partir de su experiencia se refleja en la tablas siguiente.\n",
        "\n",
        " |**periodico**|**40**|**40**|**50**|**60**|**70**|\n",
        " |-------------|------|------|------|------|------|\n",
        " |f(x)         | 20%  | 25%  | 25%  | 20%  | 10%  |\n",
        "\n",
        "Teniendo en cuenta el costo de 0.20 euros por venta perdida y 0.10 euros por el reciclaje de cada periodico no vendido, determine el beneficio promedio diario si pide 50 periodicos cada dia.\n",
        "\n",
        "Solución mediante simulación (**Metodología de la Simulación**)\n",
        "1. Identifique las variables.\n",
        " \n",
        " x= número de periodicos vendidos\n",
        "\n",
        "2. Determine la distribución de probabilidad de cada variable\n",
        "\n",
        "|**periodico**|**40**|**40**|**50**|**60**|**70**|\n",
        "|-------------|------|------|------|------|------|\n",
        "|f(x)         | 20%  | 25%  | 25%  | 20%  | 10%  |\n",
        "|f(x)         | 0.2  | 0.25 | 0.25 | 0.2  | 0.1  |\n",
        "\n",
        "\n",
        "3. Enumere la distribución acumulada de probabilidad de cada variable.\n",
        "\n",
        "|**periodico**|**40**|**40**|**50**|**60**|**70**|\n",
        "|-------------|------|------|------|------|------|\n",
        "|f(x)         | 20%  | 25%  | 25%  | 20%  | 10%  |\n",
        "|f(x)         | 0.2  | 0.25 | 0.25 | 0.2  | 0.1  |\n",
        "|F(x)         | 0.2  | 0.45 | 0.70 | 0.90 | 1    |\n",
        "\n",
        "\n",
        "4. Establezca el intervalo de números aleatorios correspondiente a cada valor de cada una de las variables.\n",
        "\n",
        "|**periodico**|**40**|**40**|**50**|**60**|**70**|\n",
        "|-------------|------|------|------|------|------|\n",
        "|f(x)         | 20%  | 25%  | 25%  | 20%  | 10%  |\n",
        "|f(x)         | 0.2  | 0.25 | 0.25 | 0.2  | 0.1  |\n",
        "|F(x)         | 0.2  | 0.45 | 0.70 | 0.90 | 1    |\n",
        "|Intervalos   |(0,0.19)|(0.2,0.44)|(0.45,0.69)|(0.7,0.89)|(0.9,1)|\n",
        "\n",
        "5. Genere números aleatorios.\n"
      ],
      "metadata": {
        "id": "VSZ2sZXBin0B"
      }
    },
    {
      "cell_type": "code",
      "source": [
        "import random\n",
        "u = random.random()\n",
        "print(u)"
      ],
      "metadata": {
        "colab": {
          "base_uri": "https://localhost:8080/"
        },
        "id": "QEAZswdXO2Rw",
        "outputId": "0d4b2d2e-17de-4bcf-9bb1-23a61c2f749a"
      },
      "execution_count": 2,
      "outputs": [
        {
          "output_type": "stream",
          "name": "stdout",
          "text": [
            "0.9978985831138675\n"
          ]
        }
      ]
    },
    {
      "cell_type": "markdown",
      "source": [
        "6. Simule las ventas de un dia y calcule el beneficio."
      ],
      "metadata": {
        "id": "hmkWcAxCpW7j"
      }
    },
    {
      "cell_type": "code",
      "source": [
        "import numpy as np\n",
        "import matplotlib.pyplot as plt"
      ],
      "metadata": {
        "id": "rLQi-L3wpi1I"
      },
      "execution_count": 4,
      "outputs": []
    },
    {
      "cell_type": "code",
      "source": [
        "def ventas_sim():\n",
        "    ventas=0\n",
        "    u = random.random()\n",
        "    if 0.0 <= u < 0.20:\n",
        "        ventas = 30\n",
        "    elif 0.20 <= u < 0.45:\n",
        "        ventas = 40\n",
        "    elif 0.45 <= u < 0.70:\n",
        "        ventas = 50\n",
        "    elif 0.70 <= u < 0.90:\n",
        "        ventas = 60\n",
        "    elif 0.90 <= u <= 1.00:\n",
        "        ventas = 70\n",
        "    return ventas"
      ],
      "metadata": {
        "id": "g4xkySjBp07W"
      },
      "execution_count": 3,
      "outputs": []
    },
    {
      "cell_type": "code",
      "source": [
        "def beneficio(pedido):\n",
        "    ben = 0\n",
        "    ventas_reales = 0\n",
        "    ventas_perdidas = 0\n",
        "    no_vendidos = 0\n",
        "    vs = ventas_sim()\n",
        "    \n",
        "    if vs > pedido:\n",
        "        ventas_reales = pedido\n",
        "        ventas_perdidas = vs - pedido\n",
        "        no_vendidos = 0\n",
        "        \n",
        "    else:\n",
        "        ventas_reales = vs\n",
        "        ventas_perdidas = 0\n",
        "        no_vendidos = pedido - ventas_reales\n",
        "    \n",
        "    ben = 1.10*ventas_reales - 0.90*pedido - 0.10*no_vendidos - 0.20*ventas_perdidas\n",
        "    return ben"
      ],
      "metadata": {
        "id": "eJAdehpcqFYF"
      },
      "execution_count": 5,
      "outputs": []
    },
    {
      "cell_type": "code",
      "source": [
        "beneficio(50)"
      ],
      "metadata": {
        "colab": {
          "base_uri": "https://localhost:8080/"
        },
        "id": "9KR8OiOpqSvp",
        "outputId": "808bdc4d-8514-4aab-b7ec-ac2653d16612"
      },
      "execution_count": 11,
      "outputs": [
        {
          "output_type": "execute_result",
          "data": {
            "text/plain": [
              "6.000000000000007"
            ]
          },
          "metadata": {},
          "execution_count": 11
        }
      ]
    },
    {
      "cell_type": "markdown",
      "source": [
        "7. Obtenga la gráfica de estabilización que indica que el tamaño de muestra utilizado es suficiente para garantizar la convergencia del resultado."
      ],
      "metadata": {
        "id": "H874KIaDraSi"
      }
    },
    {
      "cell_type": "code",
      "source": [
        "def simulacion(n):\n",
        "    L=[]\n",
        "    benef = 0\n",
        "    for i in range(n):\n",
        "        benef += beneficio(50)\n",
        "        L.append(benef/(i+1))\n",
        "    return L"
      ],
      "metadata": {
        "id": "1SINywNPrf4B"
      },
      "execution_count": 12,
      "outputs": []
    },
    {
      "cell_type": "code",
      "source": [
        "X=simulacion(500)"
      ],
      "metadata": {
        "id": "XSLRePGvrk7Y"
      },
      "execution_count": 13,
      "outputs": []
    },
    {
      "cell_type": "code",
      "source": [
        "plt.plot(X)\n",
        "plt.title('Beneficio promedio')\n",
        "plt.xlabel('iteraciones') \n",
        "plt.ylabel('probabilidad') \n",
        "plt.show() "
      ],
      "metadata": {
        "colab": {
          "base_uri": "https://localhost:8080/",
          "height": 472
        },
        "id": "wY5FDE2jroY8",
        "outputId": "13cdb6b5-dbd2-49a9-bf38-bb0141e7be6a"
      },
      "execution_count": 16,
      "outputs": [
        {
          "output_type": "display_data",
          "data": {
            "text/plain": [
              "<Figure size 640x480 with 1 Axes>"
            ],
            "image/png": "[encoded data removed]"
          },
          "metadata": {}
        }
      ]
    },
    {
      "cell_type": "markdown",
      "source": [
        "8. Replique el modelo."
      ],
      "metadata": {
        "id": "ICh6fBt4tA9-"
      }
    },
    {
      "cell_type": "code",
      "source": [
        "def modelo(n):\n",
        "    lista=[]\n",
        "    for i in range(n):\n",
        "        s = simulacion(500)\n",
        "        lista.append(np.mean(s))\n",
        "    return lista"
      ],
      "metadata": {
        "id": "m0vGNT13tDTj"
      },
      "execution_count": 18,
      "outputs": []
    },
    {
      "cell_type": "code",
      "source": [
        "Y=modelo(40)"
      ],
      "metadata": {
        "id": "dwUByfuxttbH"
      },
      "execution_count": 19,
      "outputs": []
    },
    {
      "cell_type": "code",
      "source": [
        "plt.hist(Y)\n",
        "plt.xlabel('iteraciones') \n",
        "plt.ylabel('probabilidad') \n",
        "plt.show()"
      ],
      "metadata": {
        "colab": {
          "base_uri": "https://localhost:8080/",
          "height": 449
        },
        "id": "buVyW0SGt53d",
        "outputId": "3c10682e-a73e-42db-862f-4a3c50f7f192"
      },
      "execution_count": 20,
      "outputs": [
        {
          "output_type": "display_data",
          "data": {
            "text/plain": [
              "<Figure size 640x480 with 1 Axes>"
            ],
            "image/png": "[encoded data removed]"
          },
          "metadata": {}
        }
      ]
    },
    {
      "cell_type": "markdown",
      "source": [
        "9. Calcule el beneficio promedio y su desviación estándar."
      ],
      "metadata": {
        "id": "iKzFp4Egu-le"
      }
    },
    {
      "cell_type": "code",
      "source": [
        "print(np.mean(Y), np.std(Y))"
      ],
      "metadata": {
        "colab": {
          "base_uri": "https://localhost:8080/"
        },
        "id": "rM6EUFYHvCK9",
        "outputId": "729441b0-b44f-41bc-a62b-c5396afafdda"
      },
      "execution_count": 21,
      "outputs": [
        {
          "output_type": "stream",
          "name": "stdout",
          "text": [
            "1.44194562738183 0.6137307041752543\n"
          ]
        }
      ]
    },
    {
      "cell_type": "markdown",
      "source": [
        "10. Halle el intervalo de confianza del beneficio promedio con un nivel de confianza del  95% ."
      ],
      "metadata": {
        "id": "NpBJsTzsvX23"
      }
    },
    {
      "cell_type": "code",
      "source": [
        "np.mean(Y) - 1.96*np.std(Y)/np.sqrt(50), np.mean(Y) + 1.96*np.std(Y)/np.sqrt(50)"
      ],
      "metadata": {
        "colab": {
          "base_uri": "https://localhost:8080/"
        },
        "id": "nhyt34EnvZYg",
        "outputId": "65359fa0-1b74-4ac4-9e83-b505b98c1255"
      },
      "execution_count": 22,
      "outputs": [
        {
          "output_type": "execute_result",
          "data": {
            "text/plain": [
              "(1.2718281554259008, 1.6120630993377594)"
            ]
          },
          "metadata": {},
          "execution_count": 22
        }
      ]
    },
    {
      "cell_type": "markdown",
      "source": [
        "# Analiticamente \n",
        "Con los datos proporcionados generamos numeros aleatorios y caculamos el beneficio con la siguiente formula:\n",
        "\n",
        "Beneficio= (precio unitario de venta X ventas reales) - (coste unitario de adquisicion X pedido) - (coste unitario de reciclaje X periodico no vendido) - (coste de venta perdida X ventas perdidas)\n",
        "\n",
        "sabiendo que ...\n",
        "\n",
        "Si ventas simuladas > pedido\n",
        "ventas reales = pedido\n",
        "ventas perdidas =ventas simuladas - pedido\n",
        "periodicos no vendidos = 0\n",
        "\n",
        "Si ventas simuladas <= pedido\n",
        "ventas reales = ventas simuladas\n",
        "ventas perdidas = 0\n",
        "periodicos no vendidos = pedido - ventas reales\n",
        "\n",
        "Obtenemos la siguiente tabla:\n",
        "\n",
        "\n",
        "|**Dia**|**numeros aleatorios**|**ventas simuladas**|**ventas reales**|**ventas perdidas**|**periodicos no vendidos**|**beneficio €**|**beneficio promedio €**|\n",
        "|-------|--------|-----|-----|-----|----|-----|----|\n",
        "|    1  |  0.23  | 40  | 40  |   0 | 10 | -2  | -2 |\n",
        "|    2  |  0.63  | 50  | 50  |   0 | 0  |  10 |  4 |\n",
        "|    3  | 0.96   | 70  | 50  |   20| 0  |   6 |  4.6 |\n",
        "|    4  | 0.80   | 60  | 50  |   10| 0  |   8 |  5.5 |\n",
        "|    5  | 0.35   | 40  | 40  |   0| 10  |  -2 |  4 |\n",
        "|    6  | 0.47   | 50  | 40  |   0| 0  |   10 |  5 |\n",
        "|    7  | 0.27   | 40  | 40  |   0| 10  |   -2 |  4 |\n",
        "|    8  | 0.29   | 40  | 50  |   0| 10  |   -2 |  3.25 |\n",
        "|    9  | 0.99   | 70  | 50  |   20| 0  |  6 |  3.55 |\n",
        "|   10  | 0.16   | 30  | 30  |   0| 20  |  -14|  1.8 |\n",
        "\n",
        "En conclusion el benefecio promedio que se espara es de 1.8\n",
        "\n",
        "\n"
      ],
      "metadata": {
        "id": "woPvcNWhv-xu"
      }
    }
  ]
}